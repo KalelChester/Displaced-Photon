{
 "cells": [
  {
   "cell_type": "code",
   "execution_count": 1,
   "id": "1d01a3f8",
   "metadata": {},
   "outputs": [],
   "source": [
    "import numpy as np\n",
    "import pyhepmc as hp"
   ]
  },
  {
   "cell_type": "code",
   "execution_count": 2,
   "id": "ae03999f",
   "metadata": {},
   "outputs": [
    {
     "name": "stdout",
     "output_type": "stream",
     "text": [
      "[2, 3, 4, 5]\n"
     ]
    }
   ],
   "source": [
    "# event_nums = np.random.randint(0, 40000, size=10)\n",
    "event_nums = [2, 3, 4, 5]\n",
    "print(event_nums)"
   ]
  },
  {
   "cell_type": "code",
   "execution_count": null,
   "id": "0d6528bf",
   "metadata": {},
   "outputs": [
    {
     "name": "stdout",
     "output_type": "stream",
     "text": [
      "Processing event number: 0\n",
      "Processing event number: 100\n",
      "Processing event number: 200\n",
      "Processing event number: 300\n",
      "Processing event number: 400\n",
      "Processing event number: 500\n",
      "Processing event number: 600\n",
      "Processing event number: 700\n",
      "Processing event number: 800\n",
      "Processing event number: 900\n",
      "Processing event number: 1000\n",
      "Processing event number: 1100\n",
      "Processing event number: 1200\n",
      "Processing event number: 1300\n",
      "Processing event number: 1400\n",
      "Processing event number: 1500\n"
     ]
    }
   ],
   "source": [
    "with hp.open(\"darkDisplacedPhoton.hepmc\") as f:\n",
    "    for event in f:\n",
    "        evnt_num = event.event_number\n",
    "        if evnt_num % 100 == 0:\n",
    "            print(f\"Processing event number: {evnt_num}\")\n",
    "        if evnt_num in event_nums:\n",
    "            hp.view.savefig(event, f\"event_images/event_{evnt_num}.pdf\")"
   ]
  },
  {
   "cell_type": "code",
   "execution_count": null,
   "id": "f010752b",
   "metadata": {},
   "outputs": [],
   "source": []
  }
 ],
 "metadata": {
  "kernelspec": {
   "display_name": "base",
   "language": "python",
   "name": "python3"
  },
  "language_info": {
   "codemirror_mode": {
    "name": "ipython",
    "version": 3
   },
   "file_extension": ".py",
   "mimetype": "text/x-python",
   "name": "python",
   "nbconvert_exporter": "python",
   "pygments_lexer": "ipython3",
   "version": "3.12.10"
  }
 },
 "nbformat": 4,
 "nbformat_minor": 5
}
